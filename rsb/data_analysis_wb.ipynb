{
 "cells": [
  {
   "cell_type": "code",
   "execution_count": 1,
   "metadata": {},
   "outputs": [
    {
     "name": "stderr",
     "output_type": "stream",
     "text": [
      "/Users/muzikin/anaconda/envs/tensorforce/lib/python3.6/site-packages/h5py/__init__.py:36: FutureWarning: Conversion of the second argument of issubdtype from `float` to `np.floating` is deprecated. In future, it will be treated as `np.float64 == np.dtype(float).type`.\n",
      "  from ._conv import register_converters as _register_converters\n",
      "/Users/muzikin/anaconda/envs/tensorforce/lib/python3.6/site-packages/IPython/html.py:14: ShimWarning: The `IPython.html` package has been deprecated since IPython 4.0. You should import from `notebook` instead. `IPython.html.widgets` has moved to `ipywidgets`.\n",
      "  \"`IPython.html.widgets` has moved to `ipywidgets`.\", ShimWarning)\n"
     ]
    }
   ],
   "source": [
    "import tensorflow as tf\n",
    "import numpy as np\n",
    "import os\n",
    "\n",
    "from data import DataCorpus\n",
    "\n",
    "%matplotlib inline\n",
    "import seaborn\n",
    "import matplotlib.pyplot as plt"
   ]
  },
  {
   "cell_type": "code",
   "execution_count": 5,
   "metadata": {},
   "outputs": [
    {
     "name": "stdout",
     "output_type": "stream",
     "text": [
      "[2018-05-28 14:48:13.797180] INFO: DataCorpus: loaded train data shape: (5000, 481, 25)\n",
      "[2018-05-28 14:48:14.723252] INFO: DataCorpus: loaded test data shape: (5217, 487, 25)\n",
      "[2018-05-28 14:48:14.772814] INFO: DataCorpus: cv_fraction: 0.1, train_size: 4500, cv size: 500\n"
     ]
    }
   ],
   "source": [
    "tf.reset_default_graph()\n",
    "\n",
    "data = DataCorpus(\n",
    "        'data/sparse_array_train_full_orig.npz',\n",
    "    'data/sparse_array_test_full_orig.npz',\n",
    "    #time_slice=[None, 128],\n",
    "    batch_size=64,\n",
    "    cv_fraction=0.1,\n",
    "    train_repeats=100,\n",
    "    full_shuffle=False,\n",
    ")\n"
   ]
  },
  {
   "cell_type": "code",
   "execution_count": 11,
   "metadata": {},
   "outputs": [
    {
     "data": {
      "text/plain": [
       "array([5.0000000e+00, 1.0773000e+04, 0.0000000e+00, 0.0000000e+00,\n",
       "       0.0000000e+00, 0.0000000e+00, 0.0000000e+00, 0.0000000e+00,\n",
       "       0.0000000e+00, 0.0000000e+00, 0.0000000e+00, 0.0000000e+00,\n",
       "       0.0000000e+00, 0.0000000e+00, 0.0000000e+00, 0.0000000e+00,\n",
       "       0.0000000e+00, 0.0000000e+00, 2.4763000e+04, 0.0000000e+00,\n",
       "       0.0000000e+00, 0.0000000e+00, 0.0000000e+00, 1.0000000e+00,\n",
       "       3.2621175e+05], dtype=float32)"
      ]
     },
     "execution_count": 11,
     "metadata": {},
     "output_type": "execute_result"
    }
   ],
   "source": [
    "data.train_data_array[2,1,:]"
   ]
  },
  {
   "cell_type": "code",
   "execution_count": 87,
   "metadata": {},
   "outputs": [
    {
     "data": {
      "text/plain": [
       "True"
      ]
     },
     "execution_count": 87,
     "metadata": {},
     "output_type": "execute_result"
    }
   ],
   "source": [
    "t_flag = data.train_data_array[:, 0 , -2]\n",
    "t_sum = data.train_data_array[:, 0 , -1]\n",
    "flag_from_sum = (t_sum > 0).astype('int')\n",
    "(flag_from_sum == t_flag).all()\n"
   ]
  },
  {
   "cell_type": "code",
   "execution_count": 119,
   "metadata": {},
   "outputs": [
    {
     "data": {
      "text/plain": [
       "19"
      ]
     },
     "execution_count": 119,
     "metadata": {},
     "output_type": "execute_result"
    }
   ],
   "source": [
    "features = data.train_data_array[:, : , 2:-2]\n",
    "sums = features.sum(axis=-1)\n",
    "sums = sums > 0\n",
    "sums.shape\n",
    "late_clients = sums[:, 256:].any(axis=-1) \n",
    "late_clients.sum()"
   ]
  },
  {
   "cell_type": "code",
   "execution_count": 84,
   "metadata": {},
   "outputs": [
    {
     "data": {
      "text/plain": [
       "17.64558"
      ]
     },
     "execution_count": 84,
     "metadata": {},
     "output_type": "execute_result"
    }
   ],
   "source": [
    "features = data.train_data_array[:, : , 2:]\n",
    "np.log(features.max())"
   ]
  },
  {
   "cell_type": "code",
   "execution_count": 72,
   "metadata": {},
   "outputs": [
    {
     "name": "stdout",
     "output_type": "stream",
     "text": [
      "0\n",
      "120\n",
      "240\n",
      "360\n",
      "480\n"
     ]
    }
   ],
   "source": [
    "entropy = []\n",
    "for p in range(0, data.train_data_array.shape[1], 120):\n",
    "    print(p)\n",
    "    features = data.train_data_array[:,0:p, 2:-2]\n",
    "    sums = features.sum(axis=-1)\n",
    "    norm_sums = (sums.T / (sums.sum(axis=-1)+ 1e-6)).T\n",
    "    norm_sums[norm_sums == 0] = 1e-10\n",
    "    h = (- norm_sums * np.log(norm_sums)).sum(axis=-1)\n",
    "    entropy.append(h)"
   ]
  },
  {
   "cell_type": "code",
   "execution_count": 62,
   "metadata": {},
   "outputs": [
    {
     "data": {
      "text/plain": [
       "6"
      ]
     },
     "execution_count": 62,
     "metadata": {},
     "output_type": "execute_result"
    }
   ],
   "source": [
    "len(entropy)"
   ]
  },
  {
   "cell_type": "code",
   "execution_count": 80,
   "metadata": {},
   "outputs": [
    {
     "data": {
      "image/png": "[encoded data removed]",
      "text/plain": [
       "<matplotlib.figure.Figure at 0x128426908>"
      ]
     },
     "metadata": {},
     "output_type": "display_data"
    }
   ],
   "source": [
    "entropy.reverse()\n",
    "plt.figure(0)\n",
    "for h in entropy:\n",
    "    h = h[h>0]\n",
    "    _ = plt.hist(h, bins=100)\n",
    "    "
   ]
  },
  {
   "cell_type": "code",
   "execution_count": 25,
   "metadata": {},
   "outputs": [
    {
     "data": {
      "text/plain": [
       "array([[0.31064102, 0.        , 0.        , ..., 0.        , 0.        ,\n",
       "        0.        ],\n",
       "       [0.00080148, 0.00090563, 0.        , ..., 0.        , 0.        ,\n",
       "        0.        ],\n",
       "       [0.02556761, 0.04436796, 0.01648059, ..., 0.        , 0.        ,\n",
       "        0.        ],\n",
       "       ...,\n",
       "       [0.06790794, 0.03308121, 0.01697699, ..., 0.        , 0.        ,\n",
       "        0.        ],\n",
       "       [0.00354929, 0.00540206, 0.02943674, ..., 0.        , 0.        ,\n",
       "        0.        ],\n",
       "       [0.7772725 , 0.        , 0.        , ..., 0.        , 0.        ,\n",
       "        0.        ]], dtype=float32)"
      ]
     },
     "execution_count": 25,
     "metadata": {},
     "output_type": "execute_result"
    }
   ],
   "source": [
    "norm_sums"
   ]
  },
  {
   "cell_type": "code",
   "execution_count": null,
   "metadata": {
    "collapsed": true
   },
   "outputs": [],
   "source": []
  }
 ],
 "metadata": {
  "kernelspec": {
   "display_name": "Python 3",
   "language": "python",
   "name": "python3"
  },
  "language_info": {
   "codemirror_mode": {
    "name": "ipython",
    "version": 3
   },
   "file_extension": ".py",
   "mimetype": "text/x-python",
   "name": "python",
   "nbconvert_exporter": "python",
   "pygments_lexer": "ipython3",
   "version": "3.6.0"
  }
 },
 "nbformat": 4,
 "nbformat_minor": 2
}
