{
 "cells": [
  {
   "cell_type": "code",
   "execution_count": 1,
   "metadata": {},
   "outputs": [
    {
     "name": "stderr",
     "output_type": "stream",
     "text": [
      "/Users/muzikin/anaconda/envs/tensorforce/lib/python3.6/site-packages/h5py/__init__.py:36: FutureWarning: Conversion of the second argument of issubdtype from `float` to `np.floating` is deprecated. In future, it will be treated as `np.float64 == np.dtype(float).type`.\n",
      "  from ._conv import register_converters as _register_converters\n"
     ]
    }
   ],
   "source": [
    "import tensorflow as tf\n",
    "import numpy as np\n",
    "import os\n",
    "\n",
    "from data import DataCorpus\n",
    "from model import Estimator"
   ]
  },
  {
   "cell_type": "code",
   "execution_count": 17,
   "metadata": {},
   "outputs": [
    {
     "name": "stdout",
     "output_type": "stream",
     "text": [
      "[2018-05-28 20:18:57.260242] INFO: DataCorpus: loaded train data shape: (5000, 481, 25)\n",
      "[2018-05-28 20:18:58.119745] INFO: DataCorpus: loaded test data shape: (5217, 487, 25)\n",
      "[2018-05-28 20:18:58.120789] INFO: DataCorpus: time-step sliced train data shape: (5000, 128, 25)\n",
      "[2018-05-28 20:18:58.121641] INFO: DataCorpus: time-step sliced  test data shape: (5217, 128, 25)\n",
      "[2018-05-28 20:18:58.255043] INFO: DataCorpus: cv_fraction: 0.05, train_size: 4750, cv size: 250\n",
      "</Users/muzikin/tmp/rsb> already exists. Override[y/n]? y\n",
      "[2018-05-28 20:19:00.520575] NOTICE: Estimator: Files in </Users/muzikin/tmp/rsb> purged.\n"
     ]
    }
   ],
   "source": [
    "tf.reset_default_graph()\n",
    "\n",
    "data = DataCorpus(\n",
    "#     'data/sparse_array_train_full.npz',\n",
    "#     'data/sparse_array_test_full.npz',\n",
    "#     time_slice=[-256, None],\n",
    "    'data/sparse_array_train_full_orig.npz',\n",
    "    'data/sparse_array_test_full_orig.npz',\n",
    "    time_slice=[None, 128],\n",
    "    #features_slice=[None, 2],\n",
    "    batch_size=64,\n",
    "    cv_fraction=0.05,\n",
    "    train_repeats=10000,\n",
    "    full_shuffle=True,\n",
    ")\n",
    "\n",
    "estimator = Estimator(\n",
    "    data=data,\n",
    "    opt_learn_rate=1e-4,\n",
    "    #opt_decay_steps=4000,\n",
    "    #opt_end_learn_rate=1e-5,\n",
    "    max_train_steps=900,\n",
    "    class_loss_lambda=10,\n",
    "    regress_loss_lambda=1,\n",
    "    dropout_keep_prob=0.98,\n",
    "    entropy_beta=0,\n",
    "    grad_clip=100,\n",
    "    validation_period=200,\n",
    "    summary_period=10,\n",
    "    log_dir=os.path.expanduser('~/tmp/rsb'),\n",
    ")\n",
    "\n"
   ]
  },
  {
   "cell_type": "code",
   "execution_count": 18,
   "metadata": {
    "scrolled": false
   },
   "outputs": [
    {
     "name": "stdout",
     "output_type": "stream",
     "text": [
      "Train fold:  0\n",
      "[2018-05-28 20:19:12.265918] INFO: Estimator: step: 0, train_total_loss: 17.674\n",
      "[2018-05-28 20:19:13.323377] INFO: Estimator: c_val. at 1 train step, class_loss: 0.778, regress_loss: 8.278\n",
      "[2018-05-28 20:19:21.978426] INFO: Estimator: c_val. at 201 train step, class_loss: 0.530, regress_loss: 4.481\n",
      "[2018-05-28 20:19:30.347359] INFO: Estimator: c_val. at 401 train step, class_loss: 0.534, regress_loss: 4.434\n",
      "[2018-05-28 20:19:33.903368] INFO: Estimator: step: 500, train_total_loss: 9.248\n",
      "[2018-05-28 20:19:38.649666] INFO: Estimator: c_val. at 601 train step, class_loss: 0.525, regress_loss: 4.435\n",
      "[2018-05-28 20:19:46.407653] INFO: Estimator: c_val. at 801 train step, class_loss: 0.544, regress_loss: 4.469\n",
      "[2018-05-28 20:19:51.175873] INFO: Estimator: c_val. at 902 train step, class_loss: 0.546, regress_loss: 4.485\n",
      "[2018-05-28 20:19:51.176866] INFO: Estimator: train fold finished at step: 902\n",
      "Run test[y/n]? y\n",
      "[2018-05-28 20:20:11.173374] INFO: Estimator: Processing test data...\n",
      "[2018-05-28 20:20:12.587584] INFO: Estimator: Saving results in: ./data/submission_task_1_2018-05-28_23:20.csv, ./data/submission_task_2_2018-05-28_23:20.csv...\n",
      "[2018-05-28 20:20:12.665744] INFO: Estimator: Done.\n"
     ]
    }
   ],
   "source": [
    "with tf.Session() as sess:\n",
    "    sess.run([tf.global_variables_initializer(), tf.local_variables_initializer()])\n",
    "    \n",
    "    for i in range(1):\n",
    "        print('Train fold: ', i)\n",
    "        estimator.initialise(sess)\n",
    "        estimator.train(sess, run_cv=True)\n",
    "        \n",
    "    if input('Run test[y/n]? ') in 'y':\n",
    "        estimator.test_and_save(sess)\n"
   ]
  },
  {
   "cell_type": "code",
   "execution_count": null,
   "metadata": {},
   "outputs": [],
   "source": [
    "np.asarray(cl_id[0]).shape"
   ]
  },
  {
   "cell_type": "code",
   "execution_count": null,
   "metadata": {},
   "outputs": [],
   "source": [
    "np.asarray(target_sum[0]).shape"
   ]
  },
  {
   "cell_type": "code",
   "execution_count": null,
   "metadata": {},
   "outputs": [],
   "source": [
    "np.asarray(target_flag[0]).shape"
   ]
  },
  {
   "cell_type": "code",
   "execution_count": null,
   "metadata": {
    "collapsed": true
   },
   "outputs": [],
   "source": [
    "all_ids = np.concatenate(cl_id)"
   ]
  },
  {
   "cell_type": "code",
   "execution_count": null,
   "metadata": {},
   "outputs": [],
   "source": [
    "all_ids.shape"
   ]
  },
  {
   "cell_type": "code",
   "execution_count": null,
   "metadata": {
    "collapsed": true
   },
   "outputs": [],
   "source": []
  },
  {
   "cell_type": "code",
   "execution_count": null,
   "metadata": {
    "collapsed": true
   },
   "outputs": [],
   "source": [
    "all_sums = np.concatenate(target_sum, axis=0)[:, 0]"
   ]
  },
  {
   "cell_type": "code",
   "execution_count": null,
   "metadata": {},
   "outputs": [],
   "source": [
    "all_sums.shape"
   ]
  },
  {
   "cell_type": "code",
   "execution_count": null,
   "metadata": {},
   "outputs": [],
   "source": [
    "(all_sums < 10000).sum()"
   ]
  },
  {
   "cell_type": "code",
   "execution_count": null,
   "metadata": {},
   "outputs": [],
   "source": [
    "all_flags = np.concatenate(target_flag)"
   ]
  },
  {
   "cell_type": "code",
   "execution_count": null,
   "metadata": {},
   "outputs": [],
   "source": [
    "all_flags.shape"
   ]
  },
  {
   "cell_type": "code",
   "execution_count": null,
   "metadata": {
    "collapsed": true
   },
   "outputs": [],
   "source": [
    "import datetime"
   ]
  },
  {
   "cell_type": "code",
   "execution_count": null,
   "metadata": {},
   "outputs": [],
   "source": [
    "datetime.datetime.now().strftime(\"%Y-%m-%d_%H:%M\")"
   ]
  },
  {
   "cell_type": "code",
   "execution_count": null,
   "metadata": {
    "collapsed": true
   },
   "outputs": [],
   "source": [
    "import pandas as pd"
   ]
  },
  {
   "cell_type": "code",
   "execution_count": null,
   "metadata": {},
   "outputs": [],
   "source": [
    "idx = ['cl_{}'.format(cl_id) for cl_id in all_ids]\n",
    "id_1 = pd.DataFrame(np.stack([all_ids, all_sums], axis=-1), index = idx, columns=['_ID_', '_VAL_'])"
   ]
  },
  {
   "cell_type": "code",
   "execution_count": null,
   "metadata": {},
   "outputs": [],
   "source": [
    "id_1.to_csv('./data/test_task2.csv', index = False)"
   ]
  },
  {
   "cell_type": "code",
   "execution_count": null,
   "metadata": {},
   "outputs": [],
   "source": [
    "id_2 = pd.DataFrame(np.stack([all_ids, all_flags], axis=-1), index = idx, columns=['_ID_', '_VAL_'])\n"
   ]
  },
  {
   "cell_type": "code",
   "execution_count": null,
   "metadata": {
    "collapsed": true
   },
   "outputs": [],
   "source": [
    "id_2.to_csv('./data/test_task1.csv', index = False)"
   ]
  },
  {
   "cell_type": "code",
   "execution_count": null,
   "metadata": {},
   "outputs": [],
   "source": [
    "i = [0,None]\n",
    "a = np.arange(10)\n",
    "a[i[0]:i[-1]]"
   ]
  },
  {
   "cell_type": "code",
   "execution_count": null,
   "metadata": {},
   "outputs": [],
   "source": [
    "print('{:0.3f}'.format(1.999999))"
   ]
  },
  {
   "cell_type": "code",
   "execution_count": null,
   "metadata": {},
   "outputs": [],
   "source": [
    "def softmax(x):\n",
    "    return np.exp(x) / np.sum(np.exp(x), axis=0)\n",
    "\n",
    "softmax([0,-1])"
   ]
  },
  {
   "cell_type": "code",
   "execution_count": null,
   "metadata": {
    "collapsed": true
   },
   "outputs": [],
   "source": []
  }
 ],
 "metadata": {
  "kernelspec": {
   "display_name": "Python 3",
   "language": "python",
   "name": "python3"
  },
  "language_info": {
   "codemirror_mode": {
    "name": "ipython",
    "version": 3
   },
   "file_extension": ".py",
   "mimetype": "text/x-python",
   "name": "python",
   "nbconvert_exporter": "python",
   "pygments_lexer": "ipython3",
   "version": "3.6.0"
  }
 },
 "nbformat": 4,
 "nbformat_minor": 2
}
